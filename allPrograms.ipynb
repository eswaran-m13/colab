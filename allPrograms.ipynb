{
  "nbformat": 4,
  "nbformat_minor": 0,
  "metadata": {
    "colab": {
      "provenance": [],
      "authorship_tag": "ABX9TyPEqeR5jnKgcEuSg0DhDdZe",
      "include_colab_link": true
    },
    "kernelspec": {
      "name": "python3",
      "display_name": "Python 3"
    },
    "language_info": {
      "name": "python"
    }
  },
  "cells": [
    {
      "cell_type": "markdown",
      "metadata": {
        "id": "view-in-github",
        "colab_type": "text"
      },
      "source": [
        "<a href=\"https://colab.research.google.com/github/eswaran-m13/colab/blob/main/allPrograms.ipynb\" target=\"_parent\"><img src=\"https://colab.research.google.com/assets/colab-badge.svg\" alt=\"Open In Colab\"/></a>"
      ]
    },
    {
      "cell_type": "code",
      "execution_count": null,
      "metadata": {
        "colab": {
          "base_uri": "https://localhost:8080/"
        },
        "id": "0mODvcZc4idB",
        "outputId": "d4277dae-9df4-4fd4-ace1-32209411fad7"
      },
      "outputs": [
        {
          "output_type": "stream",
          "name": "stdout",
          "text": [
            "primes: tf.Tensor([ 2  3  5  7 11 13], shape=(6,), dtype=int32)\n",
            "ones: tf.Tensor([1 1 1 1 1 1], shape=(6,), dtype=int32)\n",
            "add_primes: tf.Tensor([ 3  4  6  8 12 14], shape=(6,), dtype=int32)\n",
            "primes_doubled: tf.Tensor([ 4  6 10 14 22 26], shape=(6,), dtype=int32)\n",
            "tf.Tensor(\n",
            "[[1 2 3]\n",
            " [4 5 6]], shape=(2, 3), dtype=int32)\n",
            "\n",
            "value of some_matrix is:\n",
            " [[1 2 3]\n",
            " [4 5 6]]\n"
          ]
        }
      ],
      "source": [
        " #1.A.DIMENSIONS CREATING AND MANIPULATING TENSORS\n",
        "import tensorflow as tf\n",
        "primes = tf.constant([2, 3, 5, 7, 11, 13], dtype=tf.int32)\n",
        "print(\"primes:\", primes)\n",
        "ones = tf.ones([6], dtype=tf.int32)\n",
        "print(\"ones:\", ones)\n",
        "add_primes = tf.add(primes, ones)\n",
        "print(\"add_primes:\",add_primes)\n",
        "twos = tf.constant([2, 2, 2, 2, 2, 2], dtype=tf.int32)\n",
        "primes_doubled = primes * twos\n",
        "print(\"primes_doubled:\", primes_doubled)\n",
        "some_matrix = tf.constant([[1, 2, 3], [4, 5, 6]], dtype=tf.int32)\n",
        "print(some_matrix)\n",
        "print(\"\\nvalue of some_matrix is:\\n\", some_matrix.numpy())"
      ]
    },
    {
      "cell_type": "code",
      "source": [
        "#1.B.TRAIN AND EVALUATE\n",
        "import tensorflow as tf\n",
        "from tensorflow.keras.datasets import mnist\n",
        "from tensorflow.keras.models import Sequential\n",
        "from tensorflow.keras.layers import Dense, Flatten\n",
        "from tensorflow.keras.utils import to_categorical\n",
        "\n",
        "# Load and preprocess the MNIST dataset\n",
        "(x_train, y_train), (x_test, y_test) = mnist.load_data()\n",
        "x_train, x_test = x_train / 255.0, x_test / 255.0\n",
        "y_train, y_test = to_categorical(y_train, 10), to_categorical(y_test, 10)\n",
        "model = Sequential([Flatten(input_shape=(28, 28)),Dense(128, activation='relu'),Dense(64, activation='relu'),Dense(10, activation='softmax')])\n",
        "model.compile(optimizer='adam',loss='categorical_crossentropy',metrics=['accuracy'])\n",
        "model.fit(x_train, y_train, epochs=5, batch_size=32, validation_split=0.2)\n",
        "test_accuracy = model.evaluate(x_test, y_test)\n",
        "print(f\"Test accuracy: {test_accuracy:.4f}\")"
      ],
      "metadata": {
        "colab": {
          "base_uri": "https://localhost:8080/",
          "height": 436
        },
        "id": "0wyCaXSW45R3",
        "outputId": "9b368d10-e3b3-4ca3-f0c5-5603c3524077"
      },
      "execution_count": null,
      "outputs": [
        {
          "output_type": "stream",
          "name": "stdout",
          "text": [
            "Downloading data from https://storage.googleapis.com/tensorflow/tf-keras-datasets/mnist.npz\n",
            "11490434/11490434 [==============================] - 0s 0us/step\n",
            "Epoch 1/5\n",
            "1500/1500 [==============================] - 8s 5ms/step - loss: 0.2648 - accuracy: 0.9226 - val_loss: 0.1552 - val_accuracy: 0.9511\n",
            "Epoch 2/5\n",
            "1500/1500 [==============================] - 6s 4ms/step - loss: 0.1144 - accuracy: 0.9657 - val_loss: 0.1066 - val_accuracy: 0.9664\n",
            "Epoch 3/5\n",
            "1500/1500 [==============================] - 7s 5ms/step - loss: 0.0774 - accuracy: 0.9757 - val_loss: 0.0948 - val_accuracy: 0.9710\n",
            "Epoch 4/5\n",
            "1500/1500 [==============================] - 6s 4ms/step - loss: 0.0585 - accuracy: 0.9815 - val_loss: 0.1007 - val_accuracy: 0.9707\n",
            "Epoch 5/5\n",
            "1500/1500 [==============================] - 7s 5ms/step - loss: 0.0447 - accuracy: 0.9859 - val_loss: 0.0849 - val_accuracy: 0.9751\n",
            "313/313 [==============================] - 1s 2ms/step - loss: 0.0790 - accuracy: 0.9749\n"
          ]
        },
        {
          "output_type": "error",
          "ename": "TypeError",
          "evalue": "ignored",
          "traceback": [
            "\u001b[0;31m---------------------------------------------------------------------------\u001b[0m",
            "\u001b[0;31mTypeError\u001b[0m                                 Traceback (most recent call last)",
            "\u001b[0;32m<ipython-input-4-b506cbadcddf>\u001b[0m in \u001b[0;36m<cell line: 16>\u001b[0;34m()\u001b[0m\n\u001b[1;32m     14\u001b[0m \u001b[0mmodel\u001b[0m\u001b[0;34m.\u001b[0m\u001b[0mfit\u001b[0m\u001b[0;34m(\u001b[0m\u001b[0mx_train\u001b[0m\u001b[0;34m,\u001b[0m \u001b[0my_train\u001b[0m\u001b[0;34m,\u001b[0m \u001b[0mepochs\u001b[0m\u001b[0;34m=\u001b[0m\u001b[0;36m5\u001b[0m\u001b[0;34m,\u001b[0m \u001b[0mbatch_size\u001b[0m\u001b[0;34m=\u001b[0m\u001b[0;36m32\u001b[0m\u001b[0;34m,\u001b[0m \u001b[0mvalidation_split\u001b[0m\u001b[0;34m=\u001b[0m\u001b[0;36m0.2\u001b[0m\u001b[0;34m)\u001b[0m\u001b[0;34m\u001b[0m\u001b[0;34m\u001b[0m\u001b[0m\n\u001b[1;32m     15\u001b[0m \u001b[0mtest_accuracy\u001b[0m \u001b[0;34m=\u001b[0m \u001b[0mmodel\u001b[0m\u001b[0;34m.\u001b[0m\u001b[0mevaluate\u001b[0m\u001b[0;34m(\u001b[0m\u001b[0mx_test\u001b[0m\u001b[0;34m,\u001b[0m \u001b[0my_test\u001b[0m\u001b[0;34m)\u001b[0m\u001b[0;34m\u001b[0m\u001b[0;34m\u001b[0m\u001b[0m\n\u001b[0;32m---> 16\u001b[0;31m \u001b[0mprint\u001b[0m\u001b[0;34m(\u001b[0m\u001b[0;34mf\"Test accuracy: {test_accuracy:.4f}\"\u001b[0m\u001b[0;34m)\u001b[0m\u001b[0;34m\u001b[0m\u001b[0;34m\u001b[0m\u001b[0m\n\u001b[0m",
            "\u001b[0;31mTypeError\u001b[0m: unsupported format string passed to list.__format__"
          ]
        }
      ]
    },
    {
      "cell_type": "code",
      "source": [
        "#BINARY CLASSIFICATION\n",
        "import numpy as np\n",
        "from sklearn.model_selection import train_test_split\n",
        "from sklearn.metrics import accuracy_score\n",
        "from tensorflow.keras.models import Sequential\n",
        "from tensorflow.keras.layers import Dense\n",
        "\n",
        "np.random.seed(42)\n",
        "X = np.random.rand(1000, 2)\n",
        "y = (X[:, 0] + X[:, 1] > 1).astype(int)\n",
        "\n",
        "X_train, X_test, y_train, y_test = train_test_split(X, y, test_size=0.2, random_state=42)\n",
        "\n",
        "model = Sequential([Dense(64, activation='relu'),Dense(1, activation='sigmoid')])\n",
        "model.compile(optimizer='adam', loss='binary_crossentropy', metrics=['accuracy'])\n",
        "model.fit(X_train, y_train, epochs=10, batch_size=32, validation_split=0.2, verbose=1)\n",
        "\n",
        "test_accuracy = model.evaluate(X_test, y_test, verbose=0)[1]\n",
        "print(f\"Test accuracy: {test_accuracy:.4f}\")\n"
      ],
      "metadata": {
        "colab": {
          "base_uri": "https://localhost:8080/"
        },
        "id": "QsEUcObG5OpC",
        "outputId": "56cf5d48-c356-45c5-8ce0-9b4d2e3fc942"
      },
      "execution_count": null,
      "outputs": [
        {
          "output_type": "stream",
          "name": "stdout",
          "text": [
            "Epoch 1/10\n",
            "20/20 [==============================] - 1s 10ms/step - loss: 0.7265 - accuracy: 0.4781 - val_loss: 0.7133 - val_accuracy: 0.3688\n",
            "Epoch 2/10\n",
            "20/20 [==============================] - 0s 3ms/step - loss: 0.6965 - accuracy: 0.4062 - val_loss: 0.6750 - val_accuracy: 0.5813\n",
            "Epoch 3/10\n",
            "20/20 [==============================] - 0s 4ms/step - loss: 0.6721 - accuracy: 0.5063 - val_loss: 0.6458 - val_accuracy: 0.6000\n",
            "Epoch 4/10\n",
            "20/20 [==============================] - 0s 4ms/step - loss: 0.6490 - accuracy: 0.6062 - val_loss: 0.6255 - val_accuracy: 0.6812\n",
            "Epoch 5/10\n",
            "20/20 [==============================] - 0s 4ms/step - loss: 0.6282 - accuracy: 0.6656 - val_loss: 0.6008 - val_accuracy: 0.6812\n",
            "Epoch 6/10\n",
            "20/20 [==============================] - 0s 3ms/step - loss: 0.6058 - accuracy: 0.7453 - val_loss: 0.5823 - val_accuracy: 0.7812\n",
            "Epoch 7/10\n",
            "20/20 [==============================] - 0s 4ms/step - loss: 0.5838 - accuracy: 0.7766 - val_loss: 0.5573 - val_accuracy: 0.7750\n",
            "Epoch 8/10\n",
            "20/20 [==============================] - 0s 3ms/step - loss: 0.5593 - accuracy: 0.8016 - val_loss: 0.5360 - val_accuracy: 0.8500\n",
            "Epoch 9/10\n",
            "20/20 [==============================] - 0s 4ms/step - loss: 0.5352 - accuracy: 0.8484 - val_loss: 0.5140 - val_accuracy: 0.8750\n",
            "Epoch 10/10\n",
            "20/20 [==============================] - 0s 4ms/step - loss: 0.5098 - accuracy: 0.8625 - val_loss: 0.4890 - val_accuracy: 0.8938\n",
            "Test accuracy: 0.8700\n"
          ]
        }
      ]
    },
    {
      "cell_type": "code",
      "source": [
        " #Overfitting\n",
        "import pandas as pd\n",
        "from sklearn.metrics import mean_absolute_error\n",
        "from sklearn.tree import DecisionTreeRegressor\n",
        "from sklearn.model_selection import train_test_split\n",
        "\n",
        "melbourne_data = pd.read_csv('melb_data.csv').dropna(axis=0)\n",
        "\n",
        "melbourne_features = ['Rooms', 'Bathroom', 'Landsize', 'BuildingArea', 'YearBuilt', 'Lattitude', 'Longtitude']\n",
        "X = melbourne_data[melbourne_features]\n",
        "y = melbourne_data.Price\n",
        "\n",
        "train_X, val_X, train_y, val_y = train_test_split(X, y, random_state=0)\n",
        "\n",
        "def get_mae(max_leaf_nodes):\n",
        "    model = DecisionTreeRegressor(max_leaf_nodes=max_leaf_nodes, random_state=0)\n",
        "    model.fit(train_X, train_y)\n",
        "    preds_val = model.predict(val_X)\n",
        "    mae = mean_absolute_error(val_y, preds_val)\n",
        "    return mae\n",
        "\n",
        "for max_leaf_nodes in [5, 50, 500, 5000]:\n",
        "    my_mae = get_mae(max_leaf_nodes)\n",
        "    print(f\"Max leaf nodes: {max_leaf_nodes}\\t Mean Absolute Error: {my_mae:.0f}\")\n"
      ],
      "metadata": {
        "id": "a4BecG20aEXE",
        "colab": {
          "base_uri": "https://localhost:8080/"
        },
        "outputId": "93603f68-7714-4f24-d6cd-9ac80361ed59"
      },
      "execution_count": null,
      "outputs": [
        {
          "output_type": "stream",
          "name": "stdout",
          "text": [
            "Max leaf nodes: 5\t Mean Absolute Error: 347380\n",
            "Max leaf nodes: 50\t Mean Absolute Error: 258171\n",
            "Max leaf nodes: 500\t Mean Absolute Error: 243496\n",
            "Max leaf nodes: 5000\t Mean Absolute Error: 255575\n"
          ]
        }
      ]
    },
    {
      "cell_type": "code",
      "source": [
        "#Regression\n",
        "import numpy as np\n",
        "import matplotlib.pyplot as plt\n",
        "def estimate(x,y):\n",
        "  n=np.size(x)\n",
        "  mx=np.mean(x)\n",
        "  my=np.mean(y)\n",
        "  Sxy=np.sum(x*y)-n*my*mx\n",
        "  Sxx=np.sum(x*x)-n*mx*mx\n",
        "  b1=Sxy/Sxx\n",
        "  b0=my-b1*mx\n",
        "  return (b0,b1)\n",
        "def plot(x,y,b):\n",
        "  plt.scatter(x,y,color='g')\n",
        "  a=b[0]+b[1]*x\n",
        "  plt.plot(x,a)\n",
        "  plt.show()\n",
        "def main():\n",
        "  x = np.array([0, 1, 2, 3, 4, 5, 6, 7, 8, 9])\n",
        "  y = np.array([1, 3, 2, 5, 7, 8, 8, 9, 10, 12])\n",
        "  b=estimate(x,y)\n",
        "  print(\"B0 value\",b[0])\n",
        "  print(\"B1 value\",b[1])\n",
        "  plot(x,y,b)\n",
        "main()"
      ],
      "metadata": {
        "id": "ehUm38SfbQPT",
        "colab": {
          "base_uri": "https://localhost:8080/",
          "height": 465
        },
        "outputId": "3299444b-ad29-4cfd-9a4e-29452862a9b7"
      },
      "execution_count": null,
      "outputs": [
        {
          "output_type": "stream",
          "name": "stdout",
          "text": [
            "B0 value 1.2363636363636363\n",
            "B1 value 1.1696969696969697\n"
          ]
        },
        {
          "output_type": "display_data",
          "data": {
            "text/plain": [
              "<Figure size 640x480 with 1 Axes>"
            ],
            "image/png": "[encoded data removed]"
          },
          "metadata": {}
        }
      ]
    },
    {
      "cell_type": "code",
      "source": [
        " #6.RNN\n",
        "import numpy as np\n",
        "import tensorflow as tf\n",
        "from tensorflow import keras\n",
        "model = keras.Sequential([keras.layers.SimpleRNN(32, input_shape=(10,1)),keras.layers.Dense(1)])\n",
        "model.compile(optimizer='adam', loss='mse')\n",
        "X_train = np.random.randn(100, 10, 1)\n",
        "y_train = np.random.randn(100, 1)\n",
        "model.fit(X_train, y_train, epochs=10, batch_size=32)\n",
        "X_test = np.random.randn(10, 10, 1)\n",
        "y_test = np.random.randn(10, 1)\n",
        "model.evaluate(X_test,y_test)"
      ],
      "metadata": {
        "colab": {
          "base_uri": "https://localhost:8080/"
        },
        "id": "CeZRxWzo_dAP",
        "outputId": "b3c36a6a-d097-47d3-a995-517f9e2f371d"
      },
      "execution_count": null,
      "outputs": [
        {
          "output_type": "stream",
          "name": "stdout",
          "text": [
            "Epoch 1/10\n",
            "4/4 [==============================] - 1s 5ms/step - loss: 1.0681\n",
            "Epoch 2/10\n",
            "4/4 [==============================] - 0s 5ms/step - loss: 0.9575\n",
            "Epoch 3/10\n",
            "4/4 [==============================] - 0s 5ms/step - loss: 0.9016\n",
            "Epoch 4/10\n",
            "4/4 [==============================] - 0s 5ms/step - loss: 0.8565\n",
            "Epoch 5/10\n",
            "4/4 [==============================] - 0s 5ms/step - loss: 0.8324\n",
            "Epoch 6/10\n",
            "4/4 [==============================] - 0s 5ms/step - loss: 0.8219\n",
            "Epoch 7/10\n",
            "4/4 [==============================] - 0s 5ms/step - loss: 0.8134\n",
            "Epoch 8/10\n",
            "4/4 [==============================] - 0s 6ms/step - loss: 0.8107\n",
            "Epoch 9/10\n",
            "4/4 [==============================] - 0s 6ms/step - loss: 0.8088\n",
            "Epoch 10/10\n",
            "4/4 [==============================] - 0s 5ms/step - loss: 0.8032\n",
            "1/1 [==============================] - 0s 181ms/step - loss: 0.7462\n"
          ]
        },
        {
          "output_type": "execute_result",
          "data": {
            "text/plain": [
              "0.7462185621261597"
            ]
          },
          "metadata": {},
          "execution_count": 8
        }
      ]
    },
    {
      "cell_type": "code",
      "source": [
        "!pip install gTTS\n",
        "from gtts import gTTS\n",
        "text_to_say=\"welcome everyone\"\n",
        "language = 'en'\n",
        "gtts_object = gTTS(text = text_to_say,lang = language,slow = False)\n",
        "gtts_object.save(\"/content/gtts.wav\")\n",
        "from IPython.display import Audio\n",
        "Audio(\"/content/gtts.wav\")"
      ],
      "metadata": {
        "id": "eWYCrz3E_mgc",
        "colab": {
          "base_uri": "https://localhost:8080/",
          "height": 249
        },
        "outputId": "c9a42cbe-3762-4db0-b760-ff51a3f538b7"
      },
      "execution_count": null,
      "outputs": [
        {
          "output_type": "stream",
          "name": "stdout",
          "text": [
            "Collecting gTTS\n",
            "  Downloading gTTS-2.4.0-py3-none-any.whl (29 kB)\n",
            "Requirement already satisfied: requests<3,>=2.27 in /usr/local/lib/python3.10/dist-packages (from gTTS) (2.31.0)\n",
            "Requirement already satisfied: click<8.2,>=7.1 in /usr/local/lib/python3.10/dist-packages (from gTTS) (8.1.7)\n",
            "Requirement already satisfied: charset-normalizer<4,>=2 in /usr/local/lib/python3.10/dist-packages (from requests<3,>=2.27->gTTS) (3.3.1)\n",
            "Requirement already satisfied: idna<4,>=2.5 in /usr/local/lib/python3.10/dist-packages (from requests<3,>=2.27->gTTS) (3.4)\n",
            "Requirement already satisfied: urllib3<3,>=1.21.1 in /usr/local/lib/python3.10/dist-packages (from requests<3,>=2.27->gTTS) (2.0.7)\n",
            "Requirement already satisfied: certifi>=2017.4.17 in /usr/local/lib/python3.10/dist-packages (from requests<3,>=2.27->gTTS) (2023.7.22)\n",
            "Installing collected packages: gTTS\n",
            "Successfully installed gTTS-2.4.0\n"
          ]
        },
        {
          "output_type": "execute_result",
          "data": {
            "text/plain": [
              "<IPython.lib.display.Audio object>"
            ],
            "text/html": [
              "\n",
              "                <audio  controls=\"controls\" >\n",
              "                    <source src=\"data:audio/x-wav;base64,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\" type=\"audio/x-wav\" />\n",
              "                    Your browser does not support the audio element.\n",
              "                </audio>\n",
              "              "
            ]
          },
          "metadata": {},
          "execution_count": 9
        }
      ]
    },
    {
      "cell_type": "code",
      "source": [
        "#Image Captioning\n",
        "import urllib\n",
        "import requests\n",
        "import os\n",
        "urllib.request.urlretrieve(\"https://i.ibb.co/xY4DJJ5/img1.jpg\", \"img1.jpg\")\n",
        "urllib.request.urlretrieve(\"https://i.ibb.co/Gnd1Y1L/img2.jpg\", \"img2.jpg\")\n",
        "urllib.request.urlretrieve(\"https://i.ibb.co/Z6JgS1L/img3.jpg\", \"img3.jpg\")\n",
        "print('Images downloaded')\n",
        "path = os.getcwd()\n",
        "captionarr = [\n",
        " \"This is the first caption\",\n",
        " \"This is the second caption\",\n",
        " \"This is the third caption\"\n",
        " ]\n",
        "from PIL import Image\n",
        "from PIL import ImageFont\n",
        "from PIL import ImageDraw\n",
        "print(os.getcwd())\n",
        "def ext(file):\n",
        "  index = file.find(\".jpg\")\n",
        "  current_file = \"\"\n",
        "  current_file = file[index:]\n",
        "  return current_file\n",
        "def ext2(file):\n",
        "  index = file.find(\".jpeg\")\n",
        "  current_file = \"\"\n",
        "  current_file = file[index:]\n",
        "  return current_file\n",
        "def ext3(file):\n",
        "  index = file.find(\".png\")\n",
        "  current_file = \"\"\n",
        "  current_file = file[index:]\n",
        "  return current_file\n",
        "def convert(words):\n",
        "  s = \"\"\n",
        "  for word in words:\n",
        "    s += word.upper()\n",
        "  return s\n",
        "caption_first = convert(captionarr[0])\n",
        "caption_second = convert(captionarr[1])\n",
        "caption_third = convert(captionarr[2])\n",
        "print(caption_first)\n",
        "print(caption_second)\n",
        "print(caption_third)\n",
        "count = 0\n",
        "for f in os.listdir('.'):\n",
        "  try:\n",
        "    if (ext(f) == '.jpg' or ext2(f) == '.jpeg' or ext3(f) == '.png'):\n",
        "      img = Image.open(f)\n",
        "      width, height = img.size\n",
        "      basewidth = 1200\n",
        "      wpercent = (basewidth / float(img.size[0]))\n",
        "      hsize = int((float(img.size[1])*float(wpercent)))\n",
        "      img = img.resize((basewidth, hsize), Image.ANTIALIAS)\n",
        "      new_width, new_height = img.size\n",
        "      if not img.mode == 'RGB':\n",
        "        img = img.convert('RGB')\n",
        "        draw = ImageDraw.Draw(img)\n",
        "        font = ImageFont.truetype(\"Arial Bold.ttf\", 35)\n",
        "        if count == 0:\n",
        "          draw.text((new_width / 15 + 25, new_height - 100),caption_first, (255, 0, 0), font = font,align =\"center\")\n",
        "        elif count == 1:\n",
        "          draw.text((new_width / 15 + 25, new_height - 100),caption_second, (255, 0, 0), font = font,align =\"center\")\n",
        "        else:\n",
        "          draw.text(( new_width / 15 + 25, new_height - 100),caption_third, (255, 0, 0), font = font,align =\"center\")\n",
        "        img.save(\"CaptionedImges/{}\".format(f))\n",
        "        print('done')\n",
        "        count = count + 1\n",
        "  except OSError:\n",
        "    pass\n",
        "import os\n",
        "import glob\n",
        "import shutil\n",
        "fnames = []\n",
        "for file in os.listdir('.'):\n",
        " fnames.append(file)\n",
        "fnames.sort(key = lambda x: os.stat(x).st_ctime, reverse = True)"
      ],
      "metadata": {
        "colab": {
          "base_uri": "https://localhost:8080/"
        },
        "id": "Oeqmy-ogmy8j",
        "outputId": "186af605-0060-4aae-ce06-3db85069c131"
      },
      "execution_count": 1,
      "outputs": [
        {
          "output_type": "stream",
          "name": "stdout",
          "text": [
            "Images downloaded\n",
            "/content\n",
            "THIS IS THE FIRST CAPTION\n",
            "THIS IS THE SECOND CAPTION\n",
            "THIS IS THE THIRD CAPTION\n"
          ]
        },
        {
          "output_type": "stream",
          "name": "stderr",
          "text": [
            "<ipython-input-1-ca3056d2fa42>:54: DeprecationWarning: ANTIALIAS is deprecated and will be removed in Pillow 10 (2023-07-01). Use LANCZOS or Resampling.LANCZOS instead.\n",
            "  img = img.resize((basewidth, hsize), Image.ANTIALIAS)\n"
          ]
        }
      ]
    },
    {
      "cell_type": "code",
      "source": [
        "#CNN\n",
        "import tensorflow as tf\n",
        "from tensorflow.keras.datasets import mnist\n",
        "from tensorflow.keras.models import Sequential\n",
        "from tensorflow.keras.layers import Conv2D, MaxPooling2D, Flatten, Dense, Dropout\n",
        "from tensorflow.keras.utils import to_categorical\n",
        "# Load and preprocess the dataset\n",
        "(x_train, y_train), (x_test, y_test) = mnist.load_data()\n",
        "x_train = x_train.reshape(x_train.shape[0], 28, 28, 1).astype('float32') / 255\n",
        "x_test = x_test.reshape(x_test.shape[0], 28, 28, 1).astype('float32') / 255\n",
        "y_train = to_categorical(y_train, 10)\n",
        "y_test = to_categorical(y_test, 10)\n",
        "# Build the CNN model\n",
        "model = Sequential()\n",
        "model.add(Conv2D(32, kernel_size=(3, 3), activation='relu', input_shape=(28, 28, 1)))\n",
        "model.add(MaxPooling2D(pool_size=(2, 2)))\n",
        "model.add(Conv2D(64, kernel_size=(3, 3), activation='relu'))\n",
        "model.add(MaxPooling2D(pool_size=(2, 2)))\n",
        "model.add(Flatten())\n",
        "model.add(Dense(128, activation='relu'))\n",
        "model.add(Dropout(0.5))\n",
        "model.add(Dense(10, activation='softmax'))\n",
        "model.compile(loss='categorical_crossentropy', optimizer='adam',metrics=['accuracy'])\n",
        "# Train the model\n",
        "model.fit(x_train, y_train, epochs=10,batch_size=200, verbose=2)\n",
        "# Evaluate the model\n",
        "test_loss, test_acc = model.evaluate(x_test, y_test, verbose=0)\n",
        "print(f'Test accuracy: {test_acc*100:.2f}%')"
      ],
      "metadata": {
        "colab": {
          "base_uri": "https://localhost:8080/"
        },
        "id": "PpUK3hzaToVe",
        "outputId": "470d9601-0661-4b1b-ac45-462249912dcf"
      },
      "execution_count": 2,
      "outputs": [
        {
          "output_type": "stream",
          "name": "stdout",
          "text": [
            "Downloading data from https://storage.googleapis.com/tensorflow/tf-keras-datasets/mnist.npz\n",
            "11490434/11490434 [==============================] - 0s 0us/step\n",
            "Epoch 1/10\n",
            "300/300 - 44s - loss: 0.3741 - accuracy: 0.8868 - 44s/epoch - 148ms/step\n",
            "Epoch 2/10\n",
            "300/300 - 44s - loss: 0.1110 - accuracy: 0.9678 - 44s/epoch - 146ms/step\n",
            "Epoch 3/10\n",
            "300/300 - 42s - loss: 0.0812 - accuracy: 0.9760 - 42s/epoch - 139ms/step\n",
            "Epoch 4/10\n",
            "300/300 - 42s - loss: 0.0654 - accuracy: 0.9806 - 42s/epoch - 139ms/step\n",
            "Epoch 5/10\n",
            "300/300 - 41s - loss: 0.0560 - accuracy: 0.9830 - 41s/epoch - 138ms/step\n",
            "Epoch 6/10\n",
            "300/300 - 43s - loss: 0.0489 - accuracy: 0.9848 - 43s/epoch - 144ms/step\n",
            "Epoch 7/10\n",
            "300/300 - 42s - loss: 0.0430 - accuracy: 0.9872 - 42s/epoch - 140ms/step\n",
            "Epoch 8/10\n",
            "300/300 - 41s - loss: 0.0398 - accuracy: 0.9878 - 41s/epoch - 138ms/step\n",
            "Epoch 9/10\n",
            "300/300 - 41s - loss: 0.0349 - accuracy: 0.9893 - 41s/epoch - 137ms/step\n",
            "Epoch 10/10\n",
            "300/300 - 42s - loss: 0.0310 - accuracy: 0.9901 - 42s/epoch - 139ms/step\n",
            "Test accuracy: 99.10%\n"
          ]
        }
      ]
    },
    {
      "cell_type": "code",
      "source": [
        "#Sequence Classification\n",
        "import numpy as np\n",
        "import tensorflow as tf\n",
        "from tensorflow.keras.models import Sequential\n",
        "from tensorflow.keras.layers import Embedding, LSTM, Dense\n",
        "from tensorflow.keras.preprocessing.text import Tokenizer\n",
        "from tensorflow.keras.preprocessing.sequence import pad_sequences\n",
        "sentences = [ \"I love this product\", \"This is terrible\", \"Great job!\", \"Not good at all\", \"Awesome stuff\" ]\n",
        "labels = [1, 0, 1, 0, 1]\n",
        "tokenizer = Tokenizer(num_words=1000, oov_token=\"\")\n",
        "tokenizer.fit_on_texts(sentences)\n",
        "word_index = tokenizer.word_index\n",
        "sequences = tokenizer.texts_to_sequences(sentences)\n",
        "max_sequence_length = max([len(seq) for seq in sequences])\n",
        "sequences_padded = pad_sequences(sequences, maxlen=max_sequence_length, padding=\"post\")\n",
        "model = Sequential()\n",
        "model.add(Embedding(input_dim=len(word_index) + 1, output_dim=64, input_length=max_sequence_length))\n",
        "model.add(LSTM(64))\n",
        "model.add(Dense(1, activation=\"sigmoid\"))\n",
        "model.compile(loss=\"binary_crossentropy\",optimizer=\"adam\", metrics=[\"accuracy\"])\n",
        "test_sentences = [ \"This is very Bad\", \"I like it\", \"Excellent work\" ]\n",
        "test_sequences = tokenizer.texts_to_sequences(test_sentences)\n",
        "test_sequences_padded = pad_sequences(test_sequences,maxlen=max_sequence_length, padding=\"post\")\n",
        "predictions = model.predict(test_sequences_padded)\n",
        "for i, sentence in enumerate(test_sentences):\n",
        "  sentiment = \"Positive\" if predictions[i] > 0.5 else \"Negative\"\n",
        "  print(f\"Sentence: '{sentence}' - Sentiment: {sentiment} ({predictions[i][0]:.2f})\")"
      ],
      "metadata": {
        "colab": {
          "base_uri": "https://localhost:8080/"
        },
        "id": "DoYn7VYoV4LY",
        "outputId": "36ba0817-cedc-4823-a7df-afda79c11c3d"
      },
      "execution_count": 3,
      "outputs": [
        {
          "output_type": "stream",
          "name": "stdout",
          "text": [
            "1/1 [==============================] - 0s 447ms/step\n",
            "Sentence: 'This is very Bad' - Sentiment: Positive (0.51)\n",
            "Sentence: 'I like it' - Sentiment: Positive (0.50)\n",
            "Sentence: 'Excellent work' - Sentiment: Negative (0.50)\n"
          ]
        }
      ]
    },
    {
      "cell_type": "code",
      "source": [
        "#LSTM\n",
        "import numpy as np\n",
        "from tensorflow.keras.datasets import imdb\n",
        "from tensorflow.keras import Model\n",
        "from tensorflow.keras.layers import Input,Embedding,Bidirectional,LSTM,Dense\n",
        "from tensorflow.keras.preprocessing.sequence import pad_sequences\n",
        "max_features = 20000\n",
        "maxlen = 200\n",
        "inputs = Input(shape=(None,), dtype=\"int32\")\n",
        "x = Embedding(max_features, 128)(inputs)\n",
        "x = Bidirectional(LSTM(64))(x)\n",
        "outputs = Dense(1, activation=\"sigmoid\")(x)\n",
        "model = Model(inputs, outputs)\n",
        "model.summary()\n",
        "(x_train, y_train), (x_val, y_val) = imdb.load_data(num_words=max_features)\n",
        "print(len(x_train), \"Training sequences\")\n",
        "print(len(x_val), \"Validation sequences\")\n",
        "x_train = pad_sequences(x_train, maxlen=maxlen)\n",
        "x_val = pad_sequences(x_val, maxlen=maxlen)\n",
        "model.compile(\"adam\", \"binary_crossentropy\", metrics=[\"accuracy\"])\n",
        "model.fit(x_train, y_train, batch_size=32, epochs=2, validation_data=(x_val, y_val))"
      ],
      "metadata": {
        "colab": {
          "base_uri": "https://localhost:8080/"
        },
        "id": "eAMBCazwWJay",
        "outputId": "6cbe15a3-2de4-4590-8aa9-01a2065a9af9"
      },
      "execution_count": 4,
      "outputs": [
        {
          "output_type": "stream",
          "name": "stdout",
          "text": [
            "Model: \"model\"\n",
            "_________________________________________________________________\n",
            " Layer (type)                Output Shape              Param #   \n",
            "=================================================================\n",
            " input_1 (InputLayer)        [(None, None)]            0         \n",
            "                                                                 \n",
            " embedding_1 (Embedding)     (None, None, 128)         2560000   \n",
            "                                                                 \n",
            " bidirectional (Bidirection  (None, 128)               98816     \n",
            " al)                                                             \n",
            "                                                                 \n",
            " dense_3 (Dense)             (None, 1)                 129       \n",
            "                                                                 \n",
            "=================================================================\n",
            "Total params: 2658945 (10.14 MB)\n",
            "Trainable params: 2658945 (10.14 MB)\n",
            "Non-trainable params: 0 (0.00 Byte)\n",
            "_________________________________________________________________\n",
            "Downloading data from https://storage.googleapis.com/tensorflow/tf-keras-datasets/imdb.npz\n",
            "17464789/17464789 [==============================] - 0s 0us/step\n",
            "25000 Training sequences\n",
            "25000 Validation sequences\n",
            "Epoch 1/2\n",
            "782/782 [==============================] - 313s 394ms/step - loss: 0.4009 - accuracy: 0.8152 - val_loss: 0.3225 - val_accuracy: 0.8624\n",
            "Epoch 2/2\n",
            "782/782 [==============================] - 294s 376ms/step - loss: 0.2160 - accuracy: 0.9174 - val_loss: 0.3209 - val_accuracy: 0.8696\n"
          ]
        },
        {
          "output_type": "execute_result",
          "data": {
            "text/plain": [
              "<keras.src.callbacks.History at 0x7f9f74394b20>"
            ]
          },
          "metadata": {},
          "execution_count": 4
        }
      ]
    },
    {
      "cell_type": "code",
      "source": [
        "#GAN\n",
        "import numpy as np\n",
        "import matplotlib.pyplot as plt\n",
        "from tensorflow.keras.layers import Dense, Flatten, Reshape\n",
        "from tensorflow.keras.models import Sequential\n",
        "from tensorflow.keras.optimizers import Adam\n",
        "# Define the generator model\n",
        "def build_generator(latent_dim):\n",
        "  model = Sequential()\n",
        "  model.add(Dense(128, input_dim=latent_dim, activation='relu'))\n",
        "  model.add(Dense(784, activation='sigmoid'))\n",
        "  model.add(Reshape((28, 28, 1)))\n",
        "  return model\n",
        "# Define the discriminator model\n",
        "def build_discriminator(input_shape):\n",
        "  model = Sequential()\n",
        "  model.add(Flatten(input_shape=input_shape))\n",
        "  model.add(Dense(128, activation='relu'))\n",
        "  model.add(Dense(1, activation='sigmoid'))\n",
        "  return model\n",
        "# Define the GAN model that combines the generator and discriminator\n",
        "def build_gan(generator, discriminator):\n",
        "  discriminator.trainable = False\n",
        "  model = Sequential()\n",
        "  model.add(generator)\n",
        "  model.add(discriminator)\n",
        "  return model\n",
        "# Load and preprocess the dataset (e.g., MNIST)\n",
        "from tensorflow.keras.datasets import mnist\n",
        "(X_train, _), (_, _) = mnist.load_data()\n",
        "X_train = X_train / 255.0\n",
        "# Normalize pixel values to the range [0, 1]\n",
        "X_train = X_train.reshape(X_train.shape[0], 28, 28, 1)\n",
        "# Set hyperparameters\n",
        "latent_dim = 100\n",
        "epochs = 100\n",
        "batch_size = 64\n",
        "# Build and compile the generator, discriminator, and GAN models\n",
        "generator = build_generator(latent_dim)\n",
        "discriminator = build_discriminator(X_train[0].shape)\n",
        "gan = build_gan(generator, discriminator)\n",
        "discriminator.compile(loss='binary_crossentropy', optimizer=Adam(lr=0.0002,\n",
        "beta_1=0.5))\n",
        "gan.compile(loss='binary_crossentropy', optimizer=Adam(lr=0.0002, beta_1=0.5))\n",
        "# Training loop\n",
        "for epoch in range(epochs):\n",
        "  idx = np.random.randint(0, X_train.shape[0], batch_size)\n",
        "  real_images = X_train[idx]\n",
        "  labels_real = np.ones((batch_size, 1))\n",
        "  labels_fake = np.zeros((batch_size, 1))\n",
        "  noise = np.random.normal(0, 1, (batch_size, latent_dim))\n",
        "  generated_images = generator.predict(noise)\n",
        "  d_loss_real = discriminator.train_on_batch(real_images, labels_real)\n",
        "  d_loss_fake = discriminator.train_on_batch(generated_images, labels_fake)\n",
        "  d_loss = 0.5 * np.add(d_loss_real, d_loss_fake)\n",
        "  noise = np.random.normal(0, 1, (batch_size, latent_dim))\n",
        "  labels_gan = np.ones((batch_size, 1))\n",
        "  g_loss = gan.train_on_batch(noise, labels_gan)\n",
        "# Print progress\n",
        "if (epoch + 1) % 1000 == 0:\n",
        "  print(f\"Epoch {epoch + 1}/{epochs} - D Loss: {d_loss} - G Loss: {g_loss}\")\n",
        "# Save generated images at specified intervals\n",
        "if (epoch + 1) % 1000 == 0:\n",
        "  num_samples = 10\n",
        "  noise = np.random.normal(0, 1, (num_samples, latent_dim))\n",
        "  generated_images = generator.predict(noise)\n",
        "  plt.figure(figsize=(10, 2))\n",
        "  for i in range(num_samples):\n",
        "    plt.subplot(1, num_samples, i + 1)\n",
        "    plt.imshow(generated_images[i].reshape(28, 28), cmap='gray')\n",
        "    plt.axis('off')\n",
        "    plt.savefig(f\"gan_generated_image_epoch_{epoch + 1}.png\")\n",
        "    plt.close()\n",
        "# Generate and save final images\n",
        "num_samples = 10\n",
        "noise = np.random.normal(0, 1, (num_samples, latent_dim))\n",
        "generated_images = generator.predict(noise)\n",
        "plt.figure(figsize=(10, 2))\n",
        "for i in range(num_samples):\n",
        "  plt.subplot(1, num_samples, i + 1)\n",
        "  plt.imshow(generated_images[i].reshape(28, 28), cmap='gray')\n",
        "  plt.axis('off')\n",
        "  plt.savefig(\"final_generated_images.png\")\n",
        "plt.show()"
      ],
      "metadata": {
        "colab": {
          "base_uri": "https://localhost:8080/",
          "height": 1000
        },
        "id": "Xh7-XmDxYml7",
        "outputId": "b42d61c8-3435-49a2-c91b-f5f1dc9a5996"
      },
      "execution_count": 5,
      "outputs": [
        {
          "output_type": "stream",
          "name": "stderr",
          "text": [
            "WARNING:absl:`lr` is deprecated in Keras optimizer, please use `learning_rate` or use the legacy optimizer, e.g.,tf.keras.optimizers.legacy.Adam.\n",
            "WARNING:absl:`lr` is deprecated in Keras optimizer, please use `learning_rate` or use the legacy optimizer, e.g.,tf.keras.optimizers.legacy.Adam.\n"
          ]
        },
        {
          "output_type": "stream",
          "name": "stdout",
          "text": [
            "2/2 [==============================] - 0s 9ms/step\n",
            "2/2 [==============================] - 0s 6ms/step\n",
            "2/2 [==============================] - 0s 6ms/step\n",
            "2/2 [==============================] - 0s 5ms/step\n",
            "2/2 [==============================] - 0s 6ms/step\n",
            "2/2 [==============================] - 0s 5ms/step\n",
            "2/2 [==============================] - 0s 9ms/step\n",
            "2/2 [==============================] - 0s 6ms/step\n",
            "2/2 [==============================] - 0s 6ms/step\n",
            "2/2 [==============================] - 0s 6ms/step\n",
            "2/2 [==============================] - 0s 6ms/step\n",
            "2/2 [==============================] - 0s 6ms/step\n",
            "2/2 [==============================] - 0s 7ms/step\n",
            "2/2 [==============================] - 0s 6ms/step\n",
            "2/2 [==============================] - 0s 6ms/step\n",
            "2/2 [==============================] - 0s 6ms/step\n",
            "2/2 [==============================] - 0s 5ms/step\n",
            "2/2 [==============================] - 0s 6ms/step\n",
            "2/2 [==============================] - 0s 7ms/step\n",
            "2/2 [==============================] - 0s 6ms/step\n",
            "2/2 [==============================] - 0s 6ms/step\n",
            "2/2 [==============================] - 0s 6ms/step\n",
            "2/2 [==============================] - 0s 5ms/step\n",
            "2/2 [==============================] - 0s 6ms/step\n",
            "2/2 [==============================] - 0s 6ms/step\n",
            "2/2 [==============================] - 0s 6ms/step\n",
            "2/2 [==============================] - 0s 5ms/step\n",
            "2/2 [==============================] - 0s 6ms/step\n",
            "2/2 [==============================] - 0s 6ms/step\n",
            "2/2 [==============================] - 0s 7ms/step\n",
            "2/2 [==============================] - 0s 6ms/step\n",
            "2/2 [==============================] - 0s 5ms/step\n",
            "2/2 [==============================] - 0s 6ms/step\n",
            "2/2 [==============================] - 0s 6ms/step\n",
            "2/2 [==============================] - 0s 6ms/step\n",
            "2/2 [==============================] - 0s 6ms/step\n",
            "2/2 [==============================] - 0s 6ms/step\n",
            "2/2 [==============================] - 0s 6ms/step\n",
            "2/2 [==============================] - 0s 6ms/step\n",
            "2/2 [==============================] - 0s 6ms/step\n",
            "2/2 [==============================] - 0s 6ms/step\n",
            "2/2 [==============================] - 0s 6ms/step\n",
            "2/2 [==============================] - 0s 6ms/step\n",
            "2/2 [==============================] - 0s 6ms/step\n",
            "2/2 [==============================] - 0s 5ms/step\n",
            "2/2 [==============================] - 0s 10ms/step\n",
            "2/2 [==============================] - 0s 5ms/step\n",
            "2/2 [==============================] - 0s 5ms/step\n",
            "2/2 [==============================] - 0s 8ms/step\n",
            "2/2 [==============================] - 0s 5ms/step\n",
            "2/2 [==============================] - 0s 5ms/step\n",
            "2/2 [==============================] - 0s 5ms/step\n",
            "2/2 [==============================] - 0s 5ms/step\n",
            "2/2 [==============================] - 0s 5ms/step\n",
            "2/2 [==============================] - 0s 5ms/step\n",
            "2/2 [==============================] - 0s 9ms/step\n",
            "2/2 [==============================] - 0s 5ms/step\n",
            "2/2 [==============================] - 0s 6ms/step\n",
            "2/2 [==============================] - 0s 9ms/step\n",
            "2/2 [==============================] - 0s 5ms/step\n",
            "2/2 [==============================] - 0s 5ms/step\n",
            "2/2 [==============================] - 0s 5ms/step\n",
            "2/2 [==============================] - 0s 5ms/step\n",
            "2/2 [==============================] - 0s 11ms/step\n",
            "2/2 [==============================] - 0s 5ms/step\n",
            "2/2 [==============================] - 0s 6ms/step\n",
            "2/2 [==============================] - 0s 6ms/step\n",
            "2/2 [==============================] - 0s 6ms/step\n",
            "2/2 [==============================] - 0s 4ms/step\n",
            "2/2 [==============================] - 0s 5ms/step\n",
            "2/2 [==============================] - 0s 5ms/step\n",
            "2/2 [==============================] - 0s 7ms/step\n",
            "2/2 [==============================] - 0s 5ms/step\n",
            "2/2 [==============================] - 0s 6ms/step\n",
            "2/2 [==============================] - 0s 6ms/step\n",
            "2/2 [==============================] - 0s 5ms/step\n",
            "2/2 [==============================] - 0s 5ms/step\n",
            "2/2 [==============================] - 0s 8ms/step\n",
            "2/2 [==============================] - 0s 6ms/step\n",
            "2/2 [==============================] - 0s 5ms/step\n",
            "2/2 [==============================] - 0s 7ms/step\n",
            "2/2 [==============================] - 0s 5ms/step\n",
            "2/2 [==============================] - 0s 6ms/step\n",
            "2/2 [==============================] - 0s 6ms/step\n",
            "2/2 [==============================] - 0s 5ms/step\n",
            "2/2 [==============================] - 0s 6ms/step\n",
            "2/2 [==============================] - 0s 6ms/step\n",
            "2/2 [==============================] - 0s 6ms/step\n",
            "2/2 [==============================] - 0s 7ms/step\n",
            "2/2 [==============================] - 0s 5ms/step\n",
            "2/2 [==============================] - 0s 5ms/step\n",
            "2/2 [==============================] - 0s 7ms/step\n",
            "2/2 [==============================] - 0s 7ms/step\n",
            "2/2 [==============================] - 0s 6ms/step\n",
            "2/2 [==============================] - 0s 6ms/step\n",
            "2/2 [==============================] - 0s 6ms/step\n",
            "2/2 [==============================] - 0s 6ms/step\n",
            "2/2 [==============================] - 0s 6ms/step\n",
            "2/2 [==============================] - 0s 5ms/step\n",
            "2/2 [==============================] - 0s 6ms/step\n",
            "1/1 [==============================] - 0s 67ms/step\n"
          ]
        },
        {
          "output_type": "display_data",
          "data": {
            "text/plain": [
              "<Figure size 1000x200 with 10 Axes>"
            ],
            "image/png": "[encoded data removed]"
          },
          "metadata": {}
        }
      ]
    }
  ]
}