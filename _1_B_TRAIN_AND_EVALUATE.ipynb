{
  "nbformat": 4,
  "nbformat_minor": 0,
  "metadata": {
    "colab": {
      "provenance": [],
      "authorship_tag": "ABX9TyOptt+et4c+H27l3Y/Kei7t",
      "include_colab_link": true
    },
    "kernelspec": {
      "name": "python3",
      "display_name": "Python 3"
    },
    "language_info": {
      "name": "python"
    }
  },
  "cells": [
    {
      "cell_type": "markdown",
      "metadata": {
        "id": "view-in-github",
        "colab_type": "text"
      },
      "source": [
        "<a href=\"https://colab.research.google.com/github/eswaran-m13/colab/blob/main/_1_B_TRAIN_AND_EVALUATE.ipynb\" target=\"_parent\"><img src=\"https://colab.research.google.com/assets/colab-badge.svg\" alt=\"Open In Colab\"/></a>"
      ]
    },
    {
      "cell_type": "code",
      "execution_count": null,
      "metadata": {
        "colab": {
          "base_uri": "https://localhost:8080/"
        },
        "id": "y-sqwt9LVWVq",
        "outputId": "5669d85b-1ac1-4388-b47f-d55b98cbbb3c"
      },
      "outputs": [
        {
          "output_type": "stream",
          "name": "stdout",
          "text": [
            "Epoch 1/5\n",
            "1500/1500 [==============================] - 9s 5ms/step - loss: 0.2609 - accuracy: 0.9242 - val_loss: 0.1409 - val_accuracy: 0.9578\n",
            "Epoch 2/5\n",
            "1500/1500 [==============================] - 9s 6ms/step - loss: 0.1118 - accuracy: 0.9668 - val_loss: 0.1111 - val_accuracy: 0.9668\n",
            "Epoch 3/5\n",
            "1500/1500 [==============================] - 9s 6ms/step - loss: 0.0765 - accuracy: 0.9760 - val_loss: 0.0906 - val_accuracy: 0.9733\n",
            "Epoch 4/5\n",
            "1500/1500 [==============================] - 9s 6ms/step - loss: 0.0575 - accuracy: 0.9819 - val_loss: 0.0947 - val_accuracy: 0.9734\n",
            "Epoch 5/5\n",
            "1500/1500 [==============================] - 10s 7ms/step - loss: 0.0461 - accuracy: 0.9855 - val_loss: 0.0919 - val_accuracy: 0.9737\n",
            "313/313 [==============================] - 1s 4ms/step - loss: 0.0810 - accuracy: 0.9745\n",
            "Test accuracy: {test_accuracy:.4f}\n"
          ]
        }
      ],
      "source": [
        "#1.B.TRAIN AND EVALUATE\n",
        "import tensorflow as tf\n",
        "from tensorflow.keras.datasets import mnist\n",
        "from tensorflow.keras.models import Sequential\n",
        "from tensorflow.keras.layers import Dense, Flatten\n",
        "from tensorflow.keras.utils import to_categorical\n",
        "\n",
        "# Load and preprocess the MNIST dataset\n",
        "(x_train, y_train), (x_test, y_test) = mnist.load_data()\n",
        "x_train, x_test = x_train / 255.0, x_test / 255.0\n",
        "y_train, y_test = to_categorical(y_train, 10), to_categorical(y_test, 10)\n",
        "model = Sequential([Flatten(input_shape=(28, 28)),Dense(128, activation='relu'),Dense(64, activation='relu'),Dense(10, activation='softmax')])\n",
        "model.compile(optimizer='adam',loss='categorical_crossentropy',metrics=['accuracy'])\n",
        "model.fit(x_train, y_train, ep ochs=5, batch_size=32, validation_split=0.2)\n",
        "test_loss, test_accuracy = model.evaluate(x_test, y_test)\n",
        "print(\"Test accuracy: {test_accuracy:.4f}\")"
      ]
    }
  ]
}