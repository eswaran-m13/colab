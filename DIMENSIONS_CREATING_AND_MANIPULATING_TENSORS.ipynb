{
  "nbformat": 4,
  "nbformat_minor": 0,
  "metadata": {
    "colab": {
      "provenance": [],
      "authorship_tag": "ABX9TyPKNI1ke3/DdWE3Rre0EzIX",
      "include_colab_link": true
    },
    "kernelspec": {
      "name": "python3",
      "display_name": "Python 3"
    },
    "language_info": {
      "name": "python"
    }
  },
  "cells": [
    {
      "cell_type": "markdown",
      "metadata": {
        "id": "view-in-github",
        "colab_type": "text"
      },
      "source": [
        "<a href=\"https://colab.research.google.com/github/eswaran-m13/colab/blob/main/DIMENSIONS_CREATING_AND_MANIPULATING_TENSORS.ipynb\" target=\"_parent\"><img src=\"https://colab.research.google.com/assets/colab-badge.svg\" alt=\"Open In Colab\"/></a>"
      ]
    },
    {
      "cell_type": "code",
      "execution_count": 9,
      "metadata": {
        "colab": {
          "base_uri": "https://localhost:8080/"
        },
        "id": "Ny6drk1I38zb",
        "outputId": "445903b2-8bc7-43dc-cee3-ff36eda1064e"
      },
      "outputs": [
        {
          "output_type": "stream",
          "name": "stdout",
          "text": [
            "primes: tf.Tensor([53 59 61 67 71 73], shape=(6,), dtype=int32)\n",
            "ones: tf.Tensor([1 1 1 1 1 1], shape=(6,), dtype=int32)\n",
            "just_beyond_primes: tf.Tensor([54 60 62 68 72 74], shape=(6,), dtype=int32)\n",
            "primes_doubled: tf.Tensor([106 118 122 134 142 146], shape=(6,), dtype=int32)\n",
            "tf.Tensor(\n",
            "[[9 6 3]\n",
            " [6 4 2]], shape=(2, 3), dtype=int32)\n",
            "\n",
            "value of matrix is:\n",
            " [[9 6 3]\n",
            " [6 4 2]]\n"
          ]
        }
      ],
      "source": [
        "#1.A.DIMENSIONS CREATING AND MANIPULATING TENSORS\n",
        "import tensorflow as tf\n",
        "primes = tf.constant([53, 59, 61, 67, 71, 73], dtype=tf.int32)\n",
        "print(\"primes:\", primes)\n",
        "ones = tf.ones([6], dtype=tf.int32)\n",
        "print(\"ones:\", ones)\n",
        "just_beyond_primes = tf.add(primes, ones)\n",
        "print(\"just_beyond_primes:\", just_beyond_primes)\n",
        "twos = tf.constant([2, 2, 2, 2, 2, 2],dtype=tf.int32)\n",
        "primes_doubled = primes * twos\n",
        "print(\"primes_doubled:\", primes_doubled)\n",
        "matrix = tf.constant([[9, 6, 3],[6, 4, 2]], dtype=tf.int32)\n",
        "print(matrix)\n",
        "print(\"\\nvalue of matrix is:\\n\", some_matrix.numpy())"
      ]
    },
    {
      "cell_type": "markdown",
      "source": [],
      "metadata": {
        "id": "FUDo9k3E0M6O"
      }
    }
  ]
}